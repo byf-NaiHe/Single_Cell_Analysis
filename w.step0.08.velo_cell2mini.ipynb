{
 "cells": [
  {
   "cell_type": "code",
   "execution_count": 24,
   "metadata": {},
   "outputs": [],
   "source": [
    "import re\n",
    "import numpy as np\n",
    "import pandas as pd\n",
    "import scanpy as sc\n",
    "import scvelo as scv\n",
    "from scipy import sparse, stats\n",
    "from anndata import AnnData\n",
    "\n",
    "dir = \"./\"\n",
    "scv.settings.set_figure_params('scvelo')"
   ]
  },
  {
   "cell_type": "code",
   "execution_count": 25,
   "metadata": {
    "scrolled": true
   },
   "outputs": [],
   "source": [
    "adata_CD4 = scv.read(f\"{dir}/../data/velo/adata_CD4.h5ad\", cache=True)\n",
    "adata_CD8 = scv.read(f\"{dir}/../data/velo/adata_CD8.h5ad\", cache=True)"
   ]
  },
  {
   "cell_type": "code",
   "execution_count": 26,
   "metadata": {},
   "outputs": [
    {
     "name": "stdout",
     "output_type": "stream",
     "text": [
      "Normalized count data: X, spliced, unspliced.\n",
      "WARNING: Consider logarithmizing X with `scv.pp.log1p` for better results.\n",
      "Normalized count data: X, spliced, unspliced.\n",
      "WARNING: Consider logarithmizing X with `scv.pp.log1p` for better results.\n"
     ]
    }
   ],
   "source": [
    "adata_CD4.var_names_make_unique()\n",
    "adata_CD8.var_names_make_unique()\n",
    "scv.pp.filter_and_normalize(adata_CD4, log=False)\n",
    "scv.pp.filter_and_normalize(adata_CD8, log=False)"
   ]
  },
  {
   "cell_type": "markdown",
   "metadata": {},
   "source": [
    "## convert cells to miniclusters"
   ]
  },
  {
   "cell_type": "code",
   "execution_count": 33,
   "metadata": {},
   "outputs": [],
   "source": [
    "def CreadMiniAdata (iadata, icellinfo):\n",
    "    minis = icellinfo.miniCluster.unique()\n",
    "    spliced = np.empty(shape=(0, iadata.layers['spliced'].shape[1]), dtype=\"float32\")\n",
    "    unspliced = np.empty(shape=(0, iadata.layers['unspliced'].shape[1]), dtype=\"float32\")\n",
    "    \n",
    "    for mini in minis:\n",
    "        sub_cells = list(icellinfo[icellinfo.miniCluster==mini].index)\n",
    "        sub_adata = iadata[sub_cells,]\n",
    "    \n",
    "        if len(sub_cells) > 1:\n",
    "            sub_spliced   = np.mean(sub_adata.layers['spliced'], axis=0)\n",
    "            sub_unspliced = np.mean(sub_adata.layers['unspliced'], axis=0)\n",
    "        else:\n",
    "            sub_spliced   = sub_adata.layers['spliced'].todense()\n",
    "            sub_unspliced = sub_adata.layers['unspliced'].todense()\n",
    "    \n",
    "        spliced   = np.r_[spliced, sub_spliced]\n",
    "        unspliced = np.r_[unspliced, sub_unspliced]\n",
    "\n",
    "    spliced   = sparse.csr_matrix(spliced)\n",
    "    unspliced = sparse.csr_matrix(unspliced)\n",
    "    adata_new = AnnData(X=spliced.copy(), \n",
    "                    obs=pd.DataFrame(index=minis),\n",
    "                    var=iadata.var,\n",
    "                    layers={'spliced':spliced.copy(), 'unspliced':unspliced.copy()})\n",
    "    \n",
    "    return(adata_new)"
   ]
  },
  {
   "cell_type": "code",
   "execution_count": 34,
   "metadata": {},
   "outputs": [],
   "source": [
    "adata_mini_CD4 = CreadMiniAdata(adata_CD4, adata_CD4.obs)"
   ]
  },
  {
   "cell_type": "code",
   "execution_count": 35,
   "metadata": {},
   "outputs": [],
   "source": [
    "adata_mini_CD8 = CreadMiniAdata(adata_CD8, adata_CD8.obs)"
   ]
  },
  {
   "cell_type": "code",
   "execution_count": 37,
   "metadata": {},
   "outputs": [
    {
     "name": "stdout",
     "output_type": "stream",
     "text": [
      "AnnData object with n_obs × n_vars = 3552 × 33694\n",
      "    var: 'Accession', 'Chromosome', 'End', 'Start', 'Strand', 'gene_count_corr'\n",
      "    layers: 'spliced', 'unspliced'\n",
      "AnnData object with n_obs × n_vars = 4099 × 33694\n",
      "    var: 'Accession', 'Chromosome', 'End', 'Start', 'Strand', 'gene_count_corr'\n",
      "    layers: 'spliced', 'unspliced'\n"
     ]
    }
   ],
   "source": [
    "print(adata_mini_CD4)\n",
    "print(adata_mini_CD8)"
   ]
  },
  {
   "cell_type": "code",
   "execution_count": 38,
   "metadata": {},
   "outputs": [],
   "source": [
    "adata_mini_CD4.write(f\"{dir}/../data/velo/adata_mini_CD4.h5ad\")\n",
    "adata_mini_CD8.write(f\"{dir}/../data/velo/adata_mini_CD8.h5ad\")"
   ]
  },
  {
   "cell_type": "code",
   "execution_count": null,
   "metadata": {},
   "outputs": [],
   "source": []
  },
  {
   "cell_type": "code",
   "execution_count": null,
   "metadata": {},
   "outputs": [],
   "source": []
  }
 ],
 "metadata": {
  "kernelspec": {
   "display_name": "Python 3",
   "language": "python",
   "name": "python3"
  },
  "language_info": {
   "codemirror_mode": {
    "name": "ipython",
    "version": 3
   },
   "file_extension": ".py",
   "mimetype": "text/x-python",
   "name": "python",
   "nbconvert_exporter": "python",
   "pygments_lexer": "ipython3",
   "version": "3.7.3"
  }
 },
 "nbformat": 4,
 "nbformat_minor": 2
}
